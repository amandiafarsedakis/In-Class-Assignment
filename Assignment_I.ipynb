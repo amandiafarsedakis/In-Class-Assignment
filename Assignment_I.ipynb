{
  "nbformat": 4,
  "nbformat_minor": 0,
  "metadata": {
    "colab": {
      "provenance": [],
      "name": "Assignment I.ipynb",
      "authorship_tag": "ABX9TyO6xfKfI0FmKP2XiFGg/+Rg",
      "include_colab_link": true
    },
    "kernelspec": {
      "name": "python3",
      "display_name": "Python 3"
    },
    "language_info": {
      "name": "python"
    }
  },
  "cells": [
    {
      "cell_type": "markdown",
      "metadata": {
        "id": "view-in-github",
        "colab_type": "text"
      },
      "source": [
        "<a href=\"https://colab.research.google.com/github/amandiafarsedakis/In-Class-Assignment/blob/main/Assignment_I.ipynb\" target=\"_parent\"><img src=\"https://colab.research.google.com/assets/colab-badge.svg\" alt=\"Open In Colab\"/></a>"
      ]
    },
    {
      "cell_type": "code",
      "execution_count": null,
      "metadata": {
        "id": "dOEsI7RHbxx0",
        "colab": {
          "base_uri": "https://localhost:8080/"
        },
        "outputId": "5c92f331-fca5-44e2-d8d8-fd0fa77d8a98"
      },
      "outputs": [
        {
          "output_type": "stream",
          "name": "stdout",
          "text": [
            "Please provide the radius: 4\n",
            "Please provide the height: 3\n",
            "Area of cylinder = 175.84 sq.ft\n"
          ]
        }
      ],
      "source": [
        "#Cylinder area calculator\n",
        "\n",
        "radius = float(input('Please provide the radius: '))\n",
        "pi = 3.14\n",
        "height = float(input ('Please provide the height: '))\n",
        "\n",
        "area = (2 * pi * radius ** 2 + 2 * pi * radius * height)\n",
        "print(f'Area of cylinder = {area} sq.ft')"
      ]
    },
    {
      "cell_type": "code",
      "source": [
        "#Numerical calculator\n",
        "n1 = float(input('Please provide first number: '))\n",
        "n2 = float(input('Please provide second number: '))\n",
        "s = input('Please provide operator (+, -, /, //, *, **, %): ')\n",
        "\n",
        "if s == '+':\n",
        "    print(f'{n1} + {n2} = {n1+n2}')\n",
        "elif s == '-':\n",
        "    print(f'{n1} - {n2} = {n1-n2}')\n",
        "elif s == '/':\n",
        "    print(f'{n1} / {n2} = {n1/n2}')\n",
        "elif s == '//':\n",
        "    print(f'{n1} // {n2} = {n1//n2}')\n",
        "elif s == '*':\n",
        "    print(f'{n1} * {n2} = {n1*n2}')\n",
        "elif s == '**':\n",
        "    print(f'{n1} ** {n2} = {n1**n2}')\n",
        "elif s == '%':\n",
        "    print(f'{n1} % {n2} = {n1%n2}')\n",
        "else:\n",
        "    print('Invalid Operator')"
      ],
      "metadata": {
        "colab": {
          "base_uri": "https://localhost:8080/"
        },
        "id": "cL1S7Iwpe0hB",
        "outputId": "5a148df4-b10d-4cb7-dfe0-eea4ca0b340c"
      },
      "execution_count": null,
      "outputs": [
        {
          "output_type": "stream",
          "name": "stdout",
          "text": [
            "Please provide first number: 3\n",
            "Please provide second number: 5\n",
            "Please provide operator (+, -, /, //, *, **, %): +\n",
            "3.0 + 5.0 = 8.0\n"
          ]
        }
      ]
    },
    {
      "cell_type": "code",
      "source": [
        "#Parking Garage\n",
        "\n",
        "for hours in range(1, 9):\n",
        "    fee = 5 + (2.5 * hours)\n",
        "    if fee < 10:\n",
        "        fee = 10\n",
        "    elif fee >= 20:\n",
        "        fee = 20\n",
        "    print(hours, fee)\n",
        "\n",
        "\n"
      ],
      "metadata": {
        "colab": {
          "base_uri": "https://localhost:8080/"
        },
        "id": "43OAebtCJU4S",
        "outputId": "0b4b132e-0777-4b39-d661-9c8f9c89c849"
      },
      "execution_count": null,
      "outputs": [
        {
          "output_type": "stream",
          "name": "stdout",
          "text": [
            "1 10\n",
            "2 10.0\n",
            "3 12.5\n",
            "4 15.0\n",
            "5 17.5\n",
            "6 20\n",
            "7 20\n",
            "8 20\n"
          ]
        }
      ]
    },
    {
      "cell_type": "code",
      "source": [
        "#Movie Theater\n",
        "print ('Ad$','Profit')\n",
        "for adcost in range(0, 201, 25):\n",
        "  additional = 2 * round(adcost ** 0.5)\n",
        "  profit = (20 + additional) *  10 - 200 - adcost\n",
        "  print(adcost, '\\t', profit)"
      ],
      "metadata": {
        "colab": {
          "base_uri": "https://localhost:8080/"
        },
        "id": "J1BsRUmBOjON",
        "outputId": "20bb133e-0d3c-4a30-cf05-a65d9af7b381"
      },
      "execution_count": null,
      "outputs": [
        {
          "output_type": "stream",
          "name": "stdout",
          "text": [
            "Ad$ Profit\n",
            "0 \t 0\n",
            "25 \t 75\n",
            "50 \t 90\n",
            "75 \t 105\n",
            "100 \t 100\n",
            "125 \t 95\n",
            "150 \t 90\n",
            "175 \t 85\n",
            "200 \t 80\n"
          ]
        }
      ]
    },
    {
      "cell_type": "code",
      "source": [
        "#Rock Paper Scissors\n",
        "\n",
        "play = input('Do you want to play a game (yes/no)?')\n",
        "\n",
        "while play == 'yes':\n",
        "  p1 = input('Player 1 - Choose between rock/paper/scissors: ')\n",
        "  p2 = input('Player 2: Choose between rock/paper/scissors: ')\n",
        "\n",
        "  if p1 == p2:\n",
        "    print('Draw')\n",
        "  elif ((p1 == 'Rock' and p2 == 'Scissors') or\n",
        "   (p1 == 'Scissors' and p2 == 'Paper') or\n",
        "    (p1 == 'Paper' and p2 == 'Rock')):\n",
        "    print('Player 1 wins!')\n",
        "  else:\n",
        "    print('Player 2 wins!')\n",
        "\n",
        "  play = input('Do you want to play a new game (yes/no)?')\n",
        "\n",
        "print('Good day!')"
      ],
      "metadata": {
        "colab": {
          "base_uri": "https://localhost:8080/"
        },
        "id": "vTcT3WXSA2-I",
        "outputId": "4bf92849-bfd1-430d-8a60-4d4bc471670d"
      },
      "execution_count": null,
      "outputs": [
        {
          "output_type": "stream",
          "name": "stdout",
          "text": [
            "Do you want to play a game (yes/no)?no\n",
            "Good day!\n"
          ]
        }
      ]
    },
    {
      "cell_type": "code",
      "source": [
        "#Rock Paper Scissors against the computer\n",
        "\n",
        "import random\n",
        "play = input('Do you want to play a game (yes/no)?')\n",
        "\n",
        "while play == 'yes':\n",
        "  p1 = input('Player 1 - Choose between rock/paper/scissors: ')\n",
        "  p2 = random.choice(['Rock', 'Paper', 'Scissors']).capitalize()\n",
        "\n",
        "  print(f'Player chose {p1}; Computer chose {p2}')\n",
        "\n",
        "  if p1 == p2:\n",
        "    print('Draw')\n",
        "  elif ((p1 == 'Rock' and p2 == 'Scissors') or\n",
        "   (p1 == 'Scissors' and p2 == 'Paper') or\n",
        "    (p1 == 'Paper' and p2 == 'Rock')):\n",
        "    print('Player 1 wins!')\n",
        "  else:\n",
        "    print('Computer wins!')\n",
        "\n",
        "  play = input('Do you want to play a new game (yes/no)?')\n",
        "\n",
        "print('Good day!')"
      ],
      "metadata": {
        "colab": {
          "base_uri": "https://localhost:8080/"
        },
        "id": "7dPJ01WkB-Ws",
        "outputId": "af973f32-68c4-4668-8a7a-01b54d810667"
      },
      "execution_count": null,
      "outputs": [
        {
          "output_type": "stream",
          "name": "stdout",
          "text": [
            "Do you want to play a game (yes/no)?yes\n",
            "Player 1 - Choose between rock/paper/scissors: rock\n",
            "Player chose rock; Computer chose Rock\n",
            "Computer wins!\n",
            "Do you want to play a new game (yes/no)?no\n",
            "Good day!\n"
          ]
        }
      ]
    },
    {
      "cell_type": "code",
      "source": [
        "#Append items to list iteratively\n",
        "\n",
        "lst = []\n",
        "\n",
        "while True:\n",
        "  num = int(input('Give a number: '))\n",
        "  if num == 0.0:\n",
        "    break\n",
        "  lst.append(num)\n",
        "lst.sort(reverse=True)\n",
        "print(lst)"
      ],
      "metadata": {
        "colab": {
          "base_uri": "https://localhost:8080/"
        },
        "id": "P8LMwHDY_4V7",
        "outputId": "c78ca4d9-9065-465f-df80-6556fae12b13"
      },
      "execution_count": null,
      "outputs": [
        {
          "output_type": "stream",
          "name": "stdout",
          "text": [
            "Give a number: 5\n",
            "Give a number: 3\n",
            "Give a number: 2\n",
            "Give a number: 4\n",
            "Give a number: 2\n",
            "Give a number: 4\n",
            "Give a number: 7\n",
            "Give a number: 4\n",
            "Give a number: 6\n",
            "Give a number: 3\n",
            "Give a number: 2\n",
            "Give a number: 0\n",
            "[7, 6, 5, 4, 4, 4, 3, 3, 2, 2, 2]\n"
          ]
        }
      ]
    },
    {
      "cell_type": "code",
      "source": [
        "#Dynamic dictionary of number:month pairs\n",
        "\n",
        "months = {}\n",
        "\n",
        "names = [\"Jan\", \"Feb\", \"March\", \"Apr\", \"May\", \"June\", \"July\", \"Aug\", \"Sep\", \"Oct\", \"Nov\", \"Dec\"]\n",
        "numbers = [1, 2, 3, 4, 5, 6, 7, 8, 9, 10, 11, 12]\n",
        "\n",
        "for idx in range(len(names)):\n",
        "  months[numbers[idx]] = names[idx]\n",
        "months"
      ],
      "metadata": {
        "colab": {
          "base_uri": "https://localhost:8080/"
        },
        "id": "7gAD7vSwiP-h",
        "outputId": "06c3f33d-a3df-4786-8cd8-cb432cc63f6b"
      },
      "execution_count": null,
      "outputs": [
        {
          "output_type": "execute_result",
          "data": {
            "text/plain": [
              "{1: 'Jan',\n",
              " 2: 'Feb',\n",
              " 3: 'March',\n",
              " 4: 'Apr',\n",
              " 5: 'May',\n",
              " 6: 'June',\n",
              " 7: 'July',\n",
              " 8: 'Aug',\n",
              " 9: 'Sep',\n",
              " 10: 'Oct',\n",
              " 11: 'Nov',\n",
              " 12: 'Dec'}"
            ]
          },
          "metadata": {},
          "execution_count": 14
        }
      ]
    },
    {
      "cell_type": "code",
      "source": [
        "#Dynamic dictionary; 5 distinct key:value pairs\n",
        "\n",
        "list = {}\n",
        "\n",
        "while len(list) < 5:\n",
        "    user_input = input(\"Enter a string: \")\n",
        "\n",
        "    if user_input in list:\n",
        "      list[user_input] += 1\n",
        "    else:\n",
        "      list[user_input] = 1\n",
        "\n",
        "print(list)\n"
      ],
      "metadata": {
        "colab": {
          "base_uri": "https://localhost:8080/"
        },
        "id": "oDRY1c3lnheq",
        "outputId": "dded5390-08ed-4538-9503-4396c4c249a6"
      },
      "execution_count": 3,
      "outputs": [
        {
          "output_type": "stream",
          "name": "stdout",
          "text": [
            "Enter a string: 1\n",
            "Enter a string: 1\n",
            "Enter a string: 5\n",
            "Enter a string: 3\n",
            "Enter a string: 7\n",
            "Enter a string: 8\n",
            "{'1': 2, '5': 1, '3': 1, '7': 1, '8': 1}\n"
          ]
        }
      ]
    },
    {
      "cell_type": "code",
      "source": [
        "#Parking garage: calcFee function\n",
        "\n",
        "def calcFee(hours):\n",
        "  fee = 5 + (2.5 * hours)\n",
        "  if fee < 10:\n",
        "    fee = 10.0\n",
        "  elif fee > 20:\n",
        "    fee = 20.0\n",
        "  print(f'Fee: {fee}$')\n",
        "\n",
        "calcFee(6)"
      ],
      "metadata": {
        "id": "Pdo0bRShDHHt",
        "colab": {
          "base_uri": "https://localhost:8080/"
        },
        "outputId": "6fd4552b-80d6-40c6-a3e1-804f72cbe7b1"
      },
      "execution_count": 13,
      "outputs": [
        {
          "output_type": "stream",
          "name": "stdout",
          "text": [
            "Fee: 20.0$\n"
          ]
        }
      ]
    },
    {
      "cell_type": "code",
      "source": [
        "#Recursive function: string reversal\n",
        "\n",
        "def reverse(s):\n",
        "  if len(s) ==1:\n",
        "    return s\n",
        "  else:\n",
        "    #return s[-1] + reverse (s[:-1])\n",
        "    #return s[-1] + reverse(s[1:-1]) + s[0]\n",
        "    return reverse(s[1:]) + s[0]\n",
        "reverse(\"Hello\")"
      ],
      "metadata": {
        "id": "1wFaXQBFMx1Y",
        "colab": {
          "base_uri": "https://localhost:8080/",
          "height": 35
        },
        "outputId": "1beeca9f-74d5-4a29-bcc6-27d737835fb2"
      },
      "execution_count": null,
      "outputs": [
        {
          "output_type": "execute_result",
          "data": {
            "text/plain": [
              "'olleH'"
            ],
            "application/vnd.google.colaboratory.intrinsic+json": {
              "type": "string"
            }
          },
          "metadata": {},
          "execution_count": 28
        }
      ]
    },
    {
      "cell_type": "code",
      "source": [
        "#Parking garage/1st question of Assignment II using exception handling\n",
        "\n",
        "def main():\n",
        "  try:\n",
        "    numHours = int(input('Enter number of hours: '))\n",
        "    calcFee(numHours)\n",
        "  except ValueError:\n",
        "    print('Cannot cast to int().')\n",
        "  except:\n",
        "    print('Unknown error.')\n",
        "\n",
        "if __name__ == \"__main__\":\n",
        "  main()"
      ],
      "metadata": {
        "id": "07wuVEJLJk8d",
        "colab": {
          "base_uri": "https://localhost:8080/"
        },
        "outputId": "67b94ab7-eff2-43a8-ef42-3474dbeb6a70"
      },
      "execution_count": null,
      "outputs": [
        {
          "output_type": "stream",
          "name": "stdout",
          "text": [
            "Enter number of hours: n\n",
            "Cannot cast to int().\n"
          ]
        }
      ]
    },
    {
      "cell_type": "code",
      "source": [
        "#Greeting class\n",
        "\n",
        "class Greeting:\n",
        "    def __init__(self, first, last):\n",
        "        self.first = first\n",
        "        self.last = last\n",
        "    def display(self, formal=False):\n",
        "      if formal:\n",
        "        print(f'Hi {self.first} {self.last}')\n",
        "      else:\n",
        "        print(f'Hi {self.first}')\n",
        "    def __str__(self):\n",
        "      return \"{}, {}\" .format(self.first, self.last)\n",
        "      return f'{self.first}, {self.last}'\n",
        "      return str(self.first) + \", \" + str(self.last)\n",
        "\n",
        "greeting = Greeting('Donald', 'Becker')\n",
        "greeting2 = Greeting('Bob', 'Dylan')\n",
        "greeting.display(formal=True)\n",
        "print(greeting)\n",
        "print(greeting2)"
      ],
      "metadata": {
        "colab": {
          "base_uri": "https://localhost:8080/"
        },
        "id": "F9LeCw8gYU3y",
        "outputId": "fcba49aa-9e93-4359-e003-de195e1139b7"
      },
      "execution_count": 14,
      "outputs": [
        {
          "output_type": "stream",
          "name": "stdout",
          "text": [
            "Hi Donald Becker\n",
            "Donald, Becker\n",
            "Bob, Dylan\n"
          ]
        }
      ]
    },
    {
      "cell_type": "code",
      "source": [
        "#Student Class\n",
        "\n",
        "class Student:\n",
        "  def __init__(self, name, number):\n",
        "    self.name = name\n",
        "    self.__number = number\n",
        "    self.__courses = []\n",
        "\n",
        "  def get_number(self): #getter method for number attribute\n",
        "    return self.__number\n",
        "\n",
        "  def set_number(self, newnumber): #setter method for number atribution\n",
        "    self.__number = newnumber\n",
        "\n",
        "  def enroll(self, course):\n",
        "    if course not in self.__courses:\n",
        "      self.__courses.append(course)\n",
        "    else:\n",
        "       print(f'You have already enrolled in {course}.')\n",
        "\n",
        "  def get_courses(self):\n",
        "    return self.__courses\n",
        "\n",
        "s1 = Student('Bob', 100)\n",
        "s2 = Student('Alice', 101)\n",
        "print(s1.name, s2.name)"
      ],
      "metadata": {
        "id": "-5b1-O4aqONS",
        "colab": {
          "base_uri": "https://localhost:8080/"
        },
        "outputId": "969f6185-8848-427e-b80b-70535a695f42"
      },
      "execution_count": 17,
      "outputs": [
        {
          "output_type": "stream",
          "name": "stdout",
          "text": [
            "Bob Alice\n"
          ]
        }
      ]
    },
    {
      "cell_type": "code",
      "source": [
        "# Classes Point and Rectangle\n",
        "\n",
        "import math\n",
        "\n",
        "class Point:\n",
        "  def __init__(self, x, y):\n",
        "    self.x = x\n",
        "    self.y = y\n",
        "\n",
        "  def distance(self, other):\n",
        "    dx = (self.x - other.x) ** 2\n",
        "    dy = (self.y - other.y) ** 2\n",
        "    dist = math.sqrt(dx + dy)\n",
        "    print(dist)\n",
        "    return dist\n",
        "\n",
        "class Rectangle:\n",
        "  def __init__(self):\n",
        "    self.c1 = Point(0, 0)\n",
        "    self.c2 = Point(0, 2)\n",
        "    self.c3 = Point(2, 0)\n",
        "    self.c4 = Point(2, 2)\n",
        "    self.width = self.calculate_width()\n",
        "    self.height = self.calculate_height()\n",
        "\n",
        "  def calculate_width(self):\n",
        "    return self.c1.distance(self.c2)\n",
        "\n",
        "  def calculate_height(self):\n",
        "    return self.c3.distance(self.c4)\n",
        "\n",
        "  def area(self):\n",
        "    return self.width * self.height\n",
        "\n",
        "square = Rectangle()\n",
        "square.area()"
      ],
      "metadata": {
        "id": "dEbI6IfONh-q",
        "colab": {
          "base_uri": "https://localhost:8080/"
        },
        "outputId": "0991d804-aaf6-4e1f-eb46-93fbcc9e1834"
      },
      "execution_count": 25,
      "outputs": [
        {
          "output_type": "stream",
          "name": "stdout",
          "text": [
            "2.0\n",
            "2.0\n"
          ]
        },
        {
          "output_type": "execute_result",
          "data": {
            "text/plain": [
              "4.0"
            ]
          },
          "metadata": {},
          "execution_count": 25
        }
      ]
    }
  ]
}