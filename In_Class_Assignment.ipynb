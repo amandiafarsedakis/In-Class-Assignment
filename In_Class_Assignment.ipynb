{
  "nbformat": 4,
  "nbformat_minor": 0,
  "metadata": {
    "colab": {
      "provenance": [],
      "authorship_tag": "ABX9TyNV8gRwpxzEhHybWpPuluqq",
      "include_colab_link": true
    },
    "kernelspec": {
      "name": "python3",
      "display_name": "Python 3"
    },
    "language_info": {
      "name": "python"
    }
  },
  "cells": [
    {
      "cell_type": "markdown",
      "metadata": {
        "id": "view-in-github",
        "colab_type": "text"
      },
      "source": [
        "<a href=\"https://colab.research.google.com/github/amandiafarsedakis/In-Class-Assignment/blob/main/In_Class_Assignment.ipynb\" target=\"_parent\"><img src=\"https://colab.research.google.com/assets/colab-badge.svg\" alt=\"Open In Colab\"/></a>"
      ]
    },
    {
      "cell_type": "code",
      "execution_count": null,
      "metadata": {
        "id": "dOEsI7RHbxx0"
      },
      "outputs": [],
      "source": [
        "#Surface area of a cylinder\n",
        "radius = float(input('Please provide the radius: '))\n",
        "pi = 3.14\n",
        "height = float(input ('Please provide the height: '))\n",
        "\n",
        "area = (2 * pi * radius ** 2 + 2 * pi * radius * height)\n",
        "print(f'Area of cylinder = {area} sq.ft')"
      ]
    },
    {
      "cell_type": "code",
      "source": [
        "#Creating a simple calculator\n",
        "n1 = float(input('Please provide first number: '))\n",
        "n2 = float(input('Please provide second number: '))\n",
        "s = input('Please provide operator (+, -, /, //, *, **, %): ')\n",
        "\n",
        "if s == '+':\n",
        "    print(f'{n1} + {n2} = {n1+n2}')\n",
        "elif s == '-':\n",
        "    print(f'{n1} - {n2} = {n1-n2}')\n",
        "elif s == '/':\n",
        "    print(f'{n1} / {n2} = {n1/n2}')\n",
        "elif s == '//':\n",
        "    print(f'{n1} // {n2} = {n1//n2}')\n",
        "elif s == '*':\n",
        "    print(f'{n1} * {n2} = {n1*n2}')\n",
        "elif s == '**':\n",
        "    print(f'{n1} ** {n2} = {n1**n2}')\n",
        "elif s == '%':\n",
        "    print(f'{n1} % {n2} = {n1%n2}')\n",
        "else:\n",
        "    print('Invalid Operator')"
      ],
      "metadata": {
        "colab": {
          "base_uri": "https://localhost:8080/"
        },
        "id": "cL1S7Iwpe0hB",
        "outputId": "7011bb0e-d151-4a50-ff0d-cf8d45daf031"
      },
      "execution_count": null,
      "outputs": [
        {
          "output_type": "stream",
          "name": "stdout",
          "text": [
            "Please provide first number: 3\n",
            "Please provide second number: 8\n",
            "Please provide operator (+, -, /, //, *, **, %): *\n",
            "3.0 * 8.0 = 24.0\n"
          ]
        }
      ]
    }
  ]
}