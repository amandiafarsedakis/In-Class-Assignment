{
  "nbformat": 4,
  "nbformat_minor": 0,
  "metadata": {
    "colab": {
      "provenance": [],
      "authorship_tag": "ABX9TyN8iM8oU/ArGtLh39XlYDyg",
      "include_colab_link": true
    },
    "kernelspec": {
      "name": "python3",
      "display_name": "Python 3"
    },
    "language_info": {
      "name": "python"
    }
  },
  "cells": [
    {
      "cell_type": "markdown",
      "metadata": {
        "id": "view-in-github",
        "colab_type": "text"
      },
      "source": [
        "<a href=\"https://colab.research.google.com/github/amandiafarsedakis/In-Class-Assignment/blob/main/In_Class_Assignment.ipynb\" target=\"_parent\"><img src=\"https://colab.research.google.com/assets/colab-badge.svg\" alt=\"Open In Colab\"/></a>"
      ]
    },
    {
      "cell_type": "code",
      "execution_count": null,
      "metadata": {
        "id": "dOEsI7RHbxx0"
      },
      "outputs": [],
      "source": [
        "#Surface area of a cylinder\n",
        "radius = float(input('Please provide the radius: '))\n",
        "pi = 3.14\n",
        "height = float(input ('Please provide the height: '))\n",
        "\n",
        "area = (2 * pi * radius ** 2 + 2 * pi * radius * height)\n",
        "print(f'Area of cylinder = {area} sq.ft')"
      ]
    },
    {
      "cell_type": "code",
      "source": [
        "#Creating a simple calculator\n",
        "n1 = float(input('Please provide first number: '))\n",
        "n2 = float(input('Please provide second number: '))\n",
        "s = input('Please provide operator (+, -, /, //, *, **, %): ')\n",
        "\n",
        "if s == '+':\n",
        "    print(f'{n1} + {n2} = {n1+n2}')\n",
        "elif s == '-':\n",
        "    print(f'{n1} - {n2} = {n1-n2}')\n",
        "elif s == '/':\n",
        "    print(f'{n1} / {n2} = {n1/n2}')\n",
        "elif s == '//':\n",
        "    print(f'{n1} // {n2} = {n1//n2}')\n",
        "elif s == '*':\n",
        "    print(f'{n1} * {n2} = {n1*n2}')\n",
        "elif s == '**':\n",
        "    print(f'{n1} ** {n2} = {n1**n2}')\n",
        "elif s == '%':\n",
        "    print(f'{n1} % {n2} = {n1%n2}')\n",
        "else:\n",
        "    print('Invalid Operator')"
      ],
      "metadata": {
        "colab": {
          "base_uri": "https://localhost:8080/"
        },
        "id": "cL1S7Iwpe0hB",
        "outputId": "7011bb0e-d151-4a50-ff0d-cf8d45daf031"
      },
      "execution_count": null,
      "outputs": [
        {
          "output_type": "stream",
          "name": "stdout",
          "text": [
            "Please provide first number: 3\n",
            "Please provide second number: 8\n",
            "Please provide operator (+, -, /, //, *, **, %): *\n",
            "3.0 * 8.0 = 24.0\n"
          ]
        }
      ]
    },
    {
      "cell_type": "code",
      "source": [
        "#Parking Garage\n",
        "\n",
        "for hours in range(1, 9):\n",
        "    fee = 5 + (2.5 * hours)\n",
        "    if fee < 10:\n",
        "        fee = 10\n",
        "    elif fee >= 20:\n",
        "        fee = 20\n",
        "    print(hours, fee)\n",
        "\n",
        "\n"
      ],
      "metadata": {
        "colab": {
          "base_uri": "https://localhost:8080/"
        },
        "id": "43OAebtCJU4S",
        "outputId": "e6ff6a14-6756-40fd-dbec-209321090984"
      },
      "execution_count": null,
      "outputs": [
        {
          "output_type": "stream",
          "name": "stdout",
          "text": [
            "1 10\n",
            "2 10.0\n",
            "3 12.5\n",
            "4 15.0\n",
            "5 17.5\n",
            "6 20\n",
            "7 20\n",
            "8 20\n"
          ]
        }
      ]
    },
    {
      "cell_type": "code",
      "source": [
        "#Movie Theater\n",
        "print ('Ad$','Profit')\n",
        "for adcost in range(0, 201, 25):\n",
        "  additional = 2 * round(adcost ** 0.5)\n",
        "  profit = (20 + additional) *  10 - 200 - adcost\n",
        "  print(adcost, '\\t', profit)"
      ],
      "metadata": {
        "colab": {
          "base_uri": "https://localhost:8080/"
        },
        "id": "J1BsRUmBOjON",
        "outputId": "29ad8b36-e92b-486e-953c-1d7ccf191d7f"
      },
      "execution_count": null,
      "outputs": [
        {
          "output_type": "stream",
          "name": "stdout",
          "text": [
            "Ad$ Profit\n",
            "0 \t 0\n",
            "25 \t 75\n",
            "50 \t 90\n",
            "75 \t 105\n",
            "100 \t 100\n",
            "125 \t 95\n",
            "150 \t 90\n",
            "175 \t 85\n",
            "200 \t 80\n"
          ]
        }
      ]
    },
    {
      "cell_type": "code",
      "source": [
        "#Rock Paper Scissors\n",
        "\n",
        "play = input('Do you want to play a game (yes/no)?')\n",
        "\n",
        "while play == 'yes':\n",
        "  p1 = input('Player 1 - Choose between rock/paper/scissors: ')\n",
        "  p2 = input('Player 2: Choose between rock/paper/scissors: ')\n",
        "\n",
        "  if p1 == p2:\n",
        "    print('Draw')\n",
        "  elif ((p1 == 'Rock' and p2 == 'Scissors') or\n",
        "   (p1 == 'Scissors' and p2 == 'Paper') or\n",
        "    (p1 == 'Paper' and p2 == 'Rock')):\n",
        "    print('Player 1 wins!')\n",
        "  else:\n",
        "    print('Player 2 wins!')\n",
        "\n",
        "  play = input('Do you want to play a new game (yes/no)?')\n",
        "\n",
        "print('Good day!')"
      ],
      "metadata": {
        "colab": {
          "base_uri": "https://localhost:8080/"
        },
        "id": "vTcT3WXSA2-I",
        "outputId": "490ecc04-b0c3-49f9-95a0-5039755b6b2e"
      },
      "execution_count": null,
      "outputs": [
        {
          "output_type": "stream",
          "name": "stdout",
          "text": [
            "Do you want to play a game (yes/no)?yes\n",
            "Player 1 - Choose between rock/paper/scissors: Paper\n",
            "Player 2: Choose between rock/paper/scissors: Rock\n",
            "Player 1 wins!\n",
            "Do you want to play a new game (yes/no)?no\n",
            "Good day!\n"
          ]
        }
      ]
    },
    {
      "cell_type": "code",
      "source": [
        "#Rock Paper Scissors alternate method\n",
        "\n",
        "import random\n",
        "play = input('Do you want to play a game (yes/no)?')\n",
        "\n",
        "while play == 'yes':\n",
        "  p1 = input('Player 1 - Choose between rock/paper/scissors: ')\n",
        "  p2 = random.choice(['Rock', 'Paper', 'Scissors']).capitalize()\n",
        "\n",
        "  print(f'Player chose {p1}; Computer chose {p2}')\n",
        "\n",
        "  if p1 == p2:\n",
        "    print('Draw')\n",
        "  elif ((p1 == 'Rock' and p2 == 'Scissors') or\n",
        "   (p1 == 'Scissors' and p2 == 'Paper') or\n",
        "    (p1 == 'Paper' and p2 == 'Rock')):\n",
        "    print('Player 1 wins!')\n",
        "  else:\n",
        "    print('Computer wins!')\n",
        "\n",
        "  play = input('Do you want to play a new game (yes/no)?')\n",
        "\n",
        "print('Good day!')"
      ],
      "metadata": {
        "colab": {
          "base_uri": "https://localhost:8080/"
        },
        "id": "7dPJ01WkB-Ws",
        "outputId": "7d4dfaf6-9909-4769-dd0b-bca26052c27c"
      },
      "execution_count": null,
      "outputs": [
        {
          "metadata": {
            "tags": null
          },
          "name": "stdout",
          "output_type": "stream",
          "text": [
            "Player chose paper; Computer chose Rock\n",
            "Computer wins!\n",
            "Player chose rock; Computer chose Paper\n",
            "Computer wins!\n"
          ]
        }
      ]
    },
    {
      "cell_type": "code",
      "source": [
        "#You are given an empty list. Deisgn a program that continuously asks the user to add a number to the list.\n",
        "#This process stops when the user inputs 0, and then the list must be displayed in descending order"
      ],
      "metadata": {
        "id": "Ur9ZpGTo_lZc"
      },
      "execution_count": null,
      "outputs": []
    },
    {
      "cell_type": "code",
      "source": [
        "lst = []\n",
        "\n",
        "while True:\n",
        "  num = float(input('Give a number: '))\n",
        "  if num == 0.0:\n",
        "    break\n",
        "  lst.append(num)\n",
        "lst.sort(reverse=True)\n",
        "print(lst)"
      ],
      "metadata": {
        "colab": {
          "base_uri": "https://localhost:8080/"
        },
        "id": "P8LMwHDY_4V7",
        "outputId": "33224a9f-b668-4d84-b086-3bd4303237ac"
      },
      "execution_count": null,
      "outputs": [
        {
          "output_type": "stream",
          "name": "stdout",
          "text": [
            "Give a number: 4\n",
            "Give a number: 8\n",
            "Give a number: 1\n",
            "Give a number: 0\n",
            "[8.0, 4.0, 1.0]\n"
          ]
        }
      ]
    },
    {
      "cell_type": "code",
      "source": [
        "#Create a dictionary\n",
        "\n",
        "months = {}\n",
        "\n",
        "names = [\"Jan\", \"Feb\", \"March\", \"Apr\", \"May\", \"June\", \"July\", \"Aug\", \"Sep\", \"Oct\", \"Nov\", \"Dec\"]\n",
        "numbers = [1, 2, 3, 4, 5, 6, 7, 8, 9, 10, 11, 12]\n",
        "\n",
        "for idx in range(len(names)):\n",
        "  months[numbers[idx]] = names[idx]\n",
        "months"
      ],
      "metadata": {
        "colab": {
          "base_uri": "https://localhost:8080/"
        },
        "id": "7gAD7vSwiP-h",
        "outputId": "e4771c89-d357-416a-8154-cc0450606480"
      },
      "execution_count": 13,
      "outputs": [
        {
          "output_type": "execute_result",
          "data": {
            "text/plain": [
              "{1: 'Jan',\n",
              " 2: 'Feb',\n",
              " 3: 'March',\n",
              " 4: 'Apr',\n",
              " 5: 'May',\n",
              " 6: 'June',\n",
              " 7: 'July',\n",
              " 8: 'Aug',\n",
              " 9: 'Sep',\n",
              " 10: 'Oct',\n",
              " 11: 'Nov',\n",
              " 12: 'Dec'}"
            ]
          },
          "metadata": {},
          "execution_count": 13
        }
      ]
    },
    {
      "cell_type": "code",
      "source": [
        "#Create a dictionary: alternative way\n",
        "\n",
        "months = {}\n",
        "\n",
        "names = [\"Jan\", \"Feb\", \"March\", \"Apr\", \"May\", \"June\", \"July\", \"Aug\", \"Sep\", \"Oct\", \"Nov\", \"Dec\"]\n",
        "numbers = [1, 2, 3, 4, 5, 6, 7, 8, 9, 10, 11, 12]\n",
        "\n",
        "cntr = 0\n",
        "for num in numbers:\n",
        "  months[num] = names[cntr]\n",
        "  cntr += 1\n",
        "months"
      ],
      "metadata": {
        "colab": {
          "base_uri": "https://localhost:8080/"
        },
        "id": "PZ4PH0v5mWNQ",
        "outputId": "8bdb75ef-7d77-46e3-8514-b4e15b9076b5"
      },
      "execution_count": 17,
      "outputs": [
        {
          "output_type": "execute_result",
          "data": {
            "text/plain": [
              "{1: 'Jan',\n",
              " 2: 'Feb',\n",
              " 3: 'March',\n",
              " 4: 'Apr',\n",
              " 5: 'May',\n",
              " 6: 'June',\n",
              " 7: 'July',\n",
              " 8: 'Aug',\n",
              " 9: 'Sep',\n",
              " 10: 'Oct',\n",
              " 11: 'Nov',\n",
              " 12: 'Dec'}"
            ]
          },
          "metadata": {},
          "execution_count": 17
        }
      ]
    },
    {
      "cell_type": "code",
      "source": [
        "#Create a dictionary: alternative way\n",
        "\n",
        "months = {}\n",
        "\n",
        "names = [\"Jan\", \"Feb\", \"March\", \"Apr\", \"May\", \"June\", \"July\", \"Aug\", \"Sep\", \"Oct\", \"Nov\", \"Dec\"]\n",
        "numbers = [1, 2, 3, 4, 5, 6, 7, 8, 9, 10, 11, 12]\n",
        "\n",
        "cntr = 0\n",
        "for num in numbers:\n",
        "  months[num] = names[num - 1]\n",
        "months"
      ],
      "metadata": {
        "colab": {
          "base_uri": "https://localhost:8080/"
        },
        "id": "_LDrteB7nGLw",
        "outputId": "011dd632-395a-414c-8d49-c683350a19f4"
      },
      "execution_count": 19,
      "outputs": [
        {
          "output_type": "execute_result",
          "data": {
            "text/plain": [
              "{1: 'Jan',\n",
              " 2: 'Feb',\n",
              " 3: 'March',\n",
              " 4: 'Apr',\n",
              " 5: 'May',\n",
              " 6: 'June',\n",
              " 7: 'July',\n",
              " 8: 'Aug',\n",
              " 9: 'Sep',\n",
              " 10: 'Oct',\n",
              " 11: 'Nov',\n",
              " 12: 'Dec'}"
            ]
          },
          "metadata": {},
          "execution_count": 19
        }
      ]
    },
    {
      "cell_type": "code",
      "source": [
        "#Create an empty dictionary. Then, create a while loop that reads strings from the user [hint -- input()], and eventually populates the dictionary with 5 unique strings.\n",
        "# If the string entered already exists in the dictionary, then increase its count. Finally, all strings are displayed with their counts. Address the strings as keys and\n",
        "# the counts as values.\n",
        "\n",
        "list = {}\n",
        "\n",
        "while len(list) < 5:\n",
        "    user_input = input(\"Enter a string: \")\n",
        "\n",
        "    if user_input in list:\n",
        "      list[user_input] += 1\n",
        "    else:\n",
        "      list[user_input] = 1\n",
        "\n",
        "print(list)\n"
      ],
      "metadata": {
        "colab": {
          "base_uri": "https://localhost:8080/"
        },
        "id": "oDRY1c3lnheq",
        "outputId": "8e479cf2-b48b-403c-83dd-fc40354a89e7"
      },
      "execution_count": 27,
      "outputs": [
        {
          "output_type": "stream",
          "name": "stdout",
          "text": [
            "Enter a string: a\n",
            "Enter a string: b\n",
            "Enter a string: c\n",
            "Enter a string: c\n",
            "Enter a string: \n",
            "Enter a string: c\n",
            "Enter a string: d\n",
            "{'a': 1, 'b': 1, 'c': 3, '': 1, 'd': 1}\n"
          ]
        }
      ]
    }
  ]
}