{
  "nbformat": 4,
  "nbformat_minor": 0,
  "metadata": {
    "colab": {
      "provenance": [],
      "authorship_tag": "ABX9TyPpsPJ8hOOXYoB293/uk63x",
      "include_colab_link": true
    },
    "kernelspec": {
      "name": "python3",
      "display_name": "Python 3"
    },
    "language_info": {
      "name": "python"
    }
  },
  "cells": [
    {
      "cell_type": "markdown",
      "metadata": {
        "id": "view-in-github",
        "colab_type": "text"
      },
      "source": [
        "<a href=\"https://colab.research.google.com/github/amandiafarsedakis/In-Class-Assignment/blob/main/in_class_assignment.ipynb\" target=\"_parent\"><img src=\"https://colab.research.google.com/assets/colab-badge.svg\" alt=\"Open In Colab\"/></a>"
      ]
    },
    {
      "cell_type": "code",
      "execution_count": null,
      "metadata": {
        "id": "dOEsI7RHbxx0",
        "colab": {
          "base_uri": "https://localhost:8080/"
        },
        "outputId": "5c92f331-fca5-44e2-d8d8-fd0fa77d8a98"
      },
      "outputs": [
        {
          "output_type": "stream",
          "name": "stdout",
          "text": [
            "Please provide the radius: 4\n",
            "Please provide the height: 3\n",
            "Area of cylinder = 175.84 sq.ft\n"
          ]
        }
      ],
      "source": [
        "#Cylinder area calculator\n",
        "\n",
        "radius = float(input('Please provide the radius: '))\n",
        "pi = 3.14\n",
        "height = float(input ('Please provide the height: '))\n",
        "\n",
        "area = (2 * pi * radius ** 2 + 2 * pi * radius * height)\n",
        "print(f'Area of cylinder = {area} sq.ft')"
      ]
    },
    {
      "cell_type": "code",
      "source": [
        "#Numerical calculator\n",
        "n1 = float(input('Please provide first number: '))\n",
        "n2 = float(input('Please provide second number: '))\n",
        "s = input('Please provide operator (+, -, /, //, *, **, %): ')\n",
        "\n",
        "if s == '+':\n",
        "    print(f'{n1} + {n2} = {n1+n2}')\n",
        "elif s == '-':\n",
        "    print(f'{n1} - {n2} = {n1-n2}')\n",
        "elif s == '/':\n",
        "    print(f'{n1} / {n2} = {n1/n2}')\n",
        "elif s == '//':\n",
        "    print(f'{n1} // {n2} = {n1//n2}')\n",
        "elif s == '*':\n",
        "    print(f'{n1} * {n2} = {n1*n2}')\n",
        "elif s == '**':\n",
        "    print(f'{n1} ** {n2} = {n1**n2}')\n",
        "elif s == '%':\n",
        "    print(f'{n1} % {n2} = {n1%n2}')\n",
        "else:\n",
        "    print('Invalid Operator')"
      ],
      "metadata": {
        "colab": {
          "base_uri": "https://localhost:8080/"
        },
        "id": "cL1S7Iwpe0hB",
        "outputId": "5a148df4-b10d-4cb7-dfe0-eea4ca0b340c"
      },
      "execution_count": null,
      "outputs": [
        {
          "output_type": "stream",
          "name": "stdout",
          "text": [
            "Please provide first number: 3\n",
            "Please provide second number: 5\n",
            "Please provide operator (+, -, /, //, *, **, %): +\n",
            "3.0 + 5.0 = 8.0\n"
          ]
        }
      ]
    },
    {
      "cell_type": "code",
      "source": [
        "#Parking Garage\n",
        "\n",
        "for hours in range(1, 9):\n",
        "    fee = 5 + (2.5 * hours)\n",
        "    if fee < 10:\n",
        "        fee = 10\n",
        "    elif fee >= 20:\n",
        "        fee = 20\n",
        "    print(hours, fee)\n",
        "\n",
        "\n"
      ],
      "metadata": {
        "colab": {
          "base_uri": "https://localhost:8080/"
        },
        "id": "43OAebtCJU4S",
        "outputId": "0b4b132e-0777-4b39-d661-9c8f9c89c849"
      },
      "execution_count": null,
      "outputs": [
        {
          "output_type": "stream",
          "name": "stdout",
          "text": [
            "1 10\n",
            "2 10.0\n",
            "3 12.5\n",
            "4 15.0\n",
            "5 17.5\n",
            "6 20\n",
            "7 20\n",
            "8 20\n"
          ]
        }
      ]
    },
    {
      "cell_type": "code",
      "source": [
        "#Movie Theater\n",
        "print ('Ad$','Profit')\n",
        "for adcost in range(0, 201, 25):\n",
        "  additional = 2 * round(adcost ** 0.5)\n",
        "  profit = (20 + additional) *  10 - 200 - adcost\n",
        "  print(adcost, '\\t', profit)"
      ],
      "metadata": {
        "colab": {
          "base_uri": "https://localhost:8080/"
        },
        "id": "J1BsRUmBOjON",
        "outputId": "20bb133e-0d3c-4a30-cf05-a65d9af7b381"
      },
      "execution_count": null,
      "outputs": [
        {
          "output_type": "stream",
          "name": "stdout",
          "text": [
            "Ad$ Profit\n",
            "0 \t 0\n",
            "25 \t 75\n",
            "50 \t 90\n",
            "75 \t 105\n",
            "100 \t 100\n",
            "125 \t 95\n",
            "150 \t 90\n",
            "175 \t 85\n",
            "200 \t 80\n"
          ]
        }
      ]
    },
    {
      "cell_type": "code",
      "source": [
        "#Rock Paper Scissors\n",
        "\n",
        "play = input('Do you want to play a game (yes/no)?')\n",
        "\n",
        "while play == 'yes':\n",
        "  p1 = input('Player 1 - Choose between rock/paper/scissors: ')\n",
        "  p2 = input('Player 2: Choose between rock/paper/scissors: ')\n",
        "\n",
        "  if p1 == p2:\n",
        "    print('Draw')\n",
        "  elif ((p1 == 'Rock' and p2 == 'Scissors') or\n",
        "   (p1 == 'Scissors' and p2 == 'Paper') or\n",
        "    (p1 == 'Paper' and p2 == 'Rock')):\n",
        "    print('Player 1 wins!')\n",
        "  else:\n",
        "    print('Player 2 wins!')\n",
        "\n",
        "  play = input('Do you want to play a new game (yes/no)?')\n",
        "\n",
        "print('Good day!')"
      ],
      "metadata": {
        "colab": {
          "base_uri": "https://localhost:8080/"
        },
        "id": "vTcT3WXSA2-I",
        "outputId": "4bf92849-bfd1-430d-8a60-4d4bc471670d"
      },
      "execution_count": null,
      "outputs": [
        {
          "output_type": "stream",
          "name": "stdout",
          "text": [
            "Do you want to play a game (yes/no)?no\n",
            "Good day!\n"
          ]
        }
      ]
    },
    {
      "cell_type": "code",
      "source": [
        "#Rock Paper Scissors against the computer\n",
        "\n",
        "import random\n",
        "play = input('Do you want to play a game (yes/no)?')\n",
        "\n",
        "while play == 'yes':\n",
        "  p1 = input('Player 1 - Choose between rock/paper/scissors: ')\n",
        "  p2 = random.choice(['Rock', 'Paper', 'Scissors']).capitalize()\n",
        "\n",
        "  print(f'Player chose {p1}; Computer chose {p2}')\n",
        "\n",
        "  if p1 == p2:\n",
        "    print('Draw')\n",
        "  elif ((p1 == 'Rock' and p2 == 'Scissors') or\n",
        "   (p1 == 'Scissors' and p2 == 'Paper') or\n",
        "    (p1 == 'Paper' and p2 == 'Rock')):\n",
        "    print('Player 1 wins!')\n",
        "  else:\n",
        "    print('Computer wins!')\n",
        "\n",
        "  play = input('Do you want to play a new game (yes/no)?')\n",
        "\n",
        "print('Good day!')"
      ],
      "metadata": {
        "colab": {
          "base_uri": "https://localhost:8080/"
        },
        "id": "7dPJ01WkB-Ws",
        "outputId": "af973f32-68c4-4668-8a7a-01b54d810667"
      },
      "execution_count": null,
      "outputs": [
        {
          "output_type": "stream",
          "name": "stdout",
          "text": [
            "Do you want to play a game (yes/no)?yes\n",
            "Player 1 - Choose between rock/paper/scissors: rock\n",
            "Player chose rock; Computer chose Rock\n",
            "Computer wins!\n",
            "Do you want to play a new game (yes/no)?no\n",
            "Good day!\n"
          ]
        }
      ]
    },
    {
      "cell_type": "code",
      "source": [
        "#Append items to list iteratively\n",
        "#You are given an empty list. Deisgn a program that continuously asks the user to add a number to the list.\n",
        "#This process stops when the user inputs 0, and then the list must be displayed in descending order)\n",
        "\n",
        "lst = []\n",
        "\n",
        "while True:\n",
        "  num = int(input('Give a number: '))\n",
        "  if num == 0.0:\n",
        "    break\n",
        "  lst.append(num)\n",
        "lst.sort(reverse=True)\n",
        "print(lst)"
      ],
      "metadata": {
        "colab": {
          "base_uri": "https://localhost:8080/"
        },
        "id": "P8LMwHDY_4V7",
        "outputId": "c78ca4d9-9065-465f-df80-6556fae12b13"
      },
      "execution_count": null,
      "outputs": [
        {
          "output_type": "stream",
          "name": "stdout",
          "text": [
            "Give a number: 5\n",
            "Give a number: 3\n",
            "Give a number: 2\n",
            "Give a number: 4\n",
            "Give a number: 2\n",
            "Give a number: 4\n",
            "Give a number: 7\n",
            "Give a number: 4\n",
            "Give a number: 6\n",
            "Give a number: 3\n",
            "Give a number: 2\n",
            "Give a number: 0\n",
            "[7, 6, 5, 4, 4, 4, 3, 3, 2, 2, 2]\n"
          ]
        }
      ]
    },
    {
      "cell_type": "code",
      "source": [
        "#Dynamic dictionary of number:month pairs\n",
        "\n",
        "months = {}\n",
        "\n",
        "names = [\"Jan\", \"Feb\", \"March\", \"Apr\", \"May\", \"June\", \"July\", \"Aug\", \"Sep\", \"Oct\", \"Nov\", \"Dec\"]\n",
        "numbers = [1, 2, 3, 4, 5, 6, 7, 8, 9, 10, 11, 12]\n",
        "\n",
        "for idx in range(len(names)):\n",
        "  months[numbers[idx]] = names[idx]\n",
        "months"
      ],
      "metadata": {
        "colab": {
          "base_uri": "https://localhost:8080/"
        },
        "id": "7gAD7vSwiP-h",
        "outputId": "06c3f33d-a3df-4786-8cd8-cb432cc63f6b"
      },
      "execution_count": null,
      "outputs": [
        {
          "output_type": "execute_result",
          "data": {
            "text/plain": [
              "{1: 'Jan',\n",
              " 2: 'Feb',\n",
              " 3: 'March',\n",
              " 4: 'Apr',\n",
              " 5: 'May',\n",
              " 6: 'June',\n",
              " 7: 'July',\n",
              " 8: 'Aug',\n",
              " 9: 'Sep',\n",
              " 10: 'Oct',\n",
              " 11: 'Nov',\n",
              " 12: 'Dec'}"
            ]
          },
          "metadata": {},
          "execution_count": 14
        }
      ]
    },
    {
      "cell_type": "code",
      "source": [
        "#Dynamic dictionary; 5 distinct key:value pairs\n",
        "  #Create an empty dictionary. Then, create a while loop that reads strings from the user [hint -- input()],\n",
        "  #and eventually populates the dictionary with 5 unique strings.\n",
        "  #If the string entered already exists in the dictionary, then increase its count.\n",
        "  #Finally, all strings are displayed with their counts. Address the strings as keys and the counts as values.\n",
        "\n",
        "list = {}\n",
        "\n",
        "while len(list) < 5:\n",
        "    user_input = input(\"Enter a string: \")\n",
        "\n",
        "    if user_input in list:\n",
        "      list[user_input] += 1\n",
        "    else:\n",
        "      list[user_input] = 1\n",
        "\n",
        "print(list)\n"
      ],
      "metadata": {
        "colab": {
          "base_uri": "https://localhost:8080/"
        },
        "id": "oDRY1c3lnheq",
        "outputId": "b020e7cd-bb48-49ba-89fe-a5620702c9b9"
      },
      "execution_count": null,
      "outputs": [
        {
          "output_type": "stream",
          "name": "stdout",
          "text": [
            "Enter a string: 1\n",
            "Enter a string: 2\n",
            "Enter a string: 3\n",
            "Enter a string: 4\n",
            "Enter a string: 4\n",
            "Enter a string: 4\n",
            "Enter a string: 4\n",
            "Enter a string: 5\n",
            "{'1': 1, '2': 1, '3': 1, '4': 4, '5': 1}\n"
          ]
        }
      ]
    },
    {
      "cell_type": "code",
      "source": [
        "#Parking garage: calcFee function\n",
        "\n",
        "def calcFee(hours):\n",
        "  fee = 5 + (2.5 * hours)\n",
        "  if fee < 10:\n",
        "    fee = 10.0\n",
        "  elif fee > 20:\n",
        "    fee = 20.0\n",
        "  print(f'Fee: {fee}$')"
      ],
      "metadata": {
        "id": "Pdo0bRShDHHt"
      },
      "execution_count": null,
      "outputs": []
    },
    {
      "cell_type": "code",
      "source": [
        "#Recursive function: string reversal\n",
        "\n",
        "def reverse(s):\n",
        "  if len(s) ==1:\n",
        "    return s\n",
        "  else:\n",
        "    #return s[-1] + reverse (s[:-1])\n",
        "    #return s[-1] + reverse(s[1:-1]) + s[0]\n",
        "    return reverse(s[1:]) + s[0]\n",
        "reverse(\"Hello\")"
      ],
      "metadata": {
        "id": "1wFaXQBFMx1Y",
        "outputId": "1beeca9f-74d5-4a29-bcc6-27d737835fb2",
        "colab": {
          "base_uri": "https://localhost:8080/",
          "height": 35
        }
      },
      "execution_count": 28,
      "outputs": [
        {
          "output_type": "execute_result",
          "data": {
            "text/plain": [
              "'olleH'"
            ],
            "application/vnd.google.colaboratory.intrinsic+json": {
              "type": "string"
            }
          },
          "metadata": {},
          "execution_count": 28
        }
      ]
    },
    {
      "cell_type": "code",
      "source": [
        "#Parking garage/1st question of Assignment II using exception handling\n",
        "\n",
        "def main():\n",
        "  try:\n",
        "    numHours = int(input('Enter number of hours: '))\n",
        "    calcFee(numHours)\n",
        "  except ValueError:\n",
        "    print('Cannot cast to int().')\n",
        "  except:\n",
        "    print('Unknown error.')\n",
        "\n",
        "if __name__ == \"__main__\":\n",
        "  main()"
      ],
      "metadata": {
        "id": "07wuVEJLJk8d",
        "outputId": "67b94ab7-eff2-43a8-ef42-3474dbeb6a70",
        "colab": {
          "base_uri": "https://localhost:8080/"
        }
      },
      "execution_count": 32,
      "outputs": [
        {
          "output_type": "stream",
          "name": "stdout",
          "text": [
            "Enter number of hours: n\n",
            "Cannot cast to int().\n"
          ]
        }
      ]
    }
  ]
}